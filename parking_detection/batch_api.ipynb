{
 "cells": [
  {
   "cell_type": "code",
   "execution_count": 1,
   "metadata": {},
   "outputs": [
    {
     "name": "stdout",
     "output_type": "stream",
     "text": [
      "loading Roboflow workspace...\n",
      "loading Roboflow project...\n"
     ]
    },
    {
     "name": "stderr",
     "output_type": "stream",
     "text": [
      "Downloading Dataset Version Zip in RestPKLOTs-1 to coco:: 100%|██████████| 419485/419485 [00:14<00:00, 28284.37it/s]"
     ]
    },
    {
     "name": "stdout",
     "output_type": "stream",
     "text": [
      "\n"
     ]
    },
    {
     "name": "stderr",
     "output_type": "stream",
     "text": [
      "\n",
      "Extracting Dataset Version Zip to RestPKLOTs-1 in coco:: 100%|██████████| 8900/8900 [00:00<00:00, 11446.01it/s]\n"
     ]
    }
   ],
   "source": [
    "from roboflow import Roboflow\n",
    "rf = Roboflow(api_key=\"ukQ4cG4ARhtXKcDFzcZx\")\n",
    "project = rf.workspace(\"restofpklot\").project(\"restpklots\")\n",
    "version = project.version(1)\n",
    "dataset = version.download(\"coco\")"
   ]
  },
  {
   "cell_type": "code",
   "execution_count": 1,
   "metadata": {},
   "outputs": [],
   "source": [
    "import utils.modify_coco as mc\n",
    "\n",
    "base_path = './RestPKLOTs-1/train/images'\n",
    "coco_json_path = 'RestPKLOTs-1/train/_annotations.coco.json'"
   ]
  },
  {
   "cell_type": "code",
   "execution_count": 2,
   "metadata": {},
   "outputs": [
    {
     "name": "stdout",
     "output_type": "stream",
     "text": [
      "{'parking1': 3157, 'parking2': 1175, 'parking3': 1892}\n"
     ]
    }
   ],
   "source": [
    "# parking_images = mc.read_image_names_from_directories(base_path)\n",
    "# mc.update_coco_json_with_parking_field(coco_json_path, parking_images)\n",
    "\n",
    "parking_counts = mc.count_parking_occurrences(coco_json_path)\n",
    "print(parking_counts)"
   ]
  },
  {
   "cell_type": "code",
   "execution_count": 2,
   "metadata": {},
   "outputs": [
    {
     "name": "stdout",
     "output_type": "stream",
     "text": [
      "Updated RestPKLOTs-1/train/_annotations.coco.json with date_captured information.\n"
     ]
    }
   ],
   "source": [
    "parking_images = mc.read_image_names_from_directories(base_path)\n",
    "mc.update_coco_json_with_date_captured(coco_json_path, parking_images)"
   ]
  }
 ],
 "metadata": {
  "kernelspec": {
   "display_name": "Python 3",
   "language": "python",
   "name": "python3"
  },
  "language_info": {
   "codemirror_mode": {
    "name": "ipython",
    "version": 3
   },
   "file_extension": ".py",
   "mimetype": "text/x-python",
   "name": "python",
   "nbconvert_exporter": "python",
   "pygments_lexer": "ipython3",
   "version": "3.10.12"
  }
 },
 "nbformat": 4,
 "nbformat_minor": 2
}
