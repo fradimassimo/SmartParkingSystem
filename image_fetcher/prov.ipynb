{
 "cells": [
  {
   "cell_type": "code",
   "execution_count": 4,
   "metadata": {},
   "outputs": [
    {
     "name": "stdout",
     "output_type": "stream",
     "text": [
      "None\n"
     ]
    }
   ],
   "source": [
    "from PIL import Image\n",
    "from PIL.ExifTags import TAGS\n",
    "\n",
    "def extract_creation_date(image_path):\n",
    "    \"\"\"Extract the creation date from an image's EXIF metadata.\"\"\"\n",
    "    try:\n",
    "        # Open the image file\n",
    "        image = Image.open(image_path)\n",
    "\n",
    "        # Retrieve EXIF data\n",
    "        exif_data = image._getexif()\n",
    "\n",
    "        if exif_data is None:\n",
    "            return None  # No EXIF data found\n",
    "\n",
    "        # Look for the DateTimeOriginal tag in the EXIF data\n",
    "        for tag_id, value in exif_data.items():\n",
    "            tag_name = TAGS.get(tag_id, tag_id)\n",
    "            if tag_name == \"DateTimeDigitized\":\n",
    "                return value  # Return the creation date\n",
    "\n",
    "        return None  # DateTimeOriginal not found\n",
    "    except Exception as e:\n",
    "        print(f\"Error extracting creation date: {e}\")\n",
    "        return None\n",
    "\n",
    "\n",
    "print(extract_creation_date('../images/2012-12-07_16_42_25_jpg.rf.55cfc505f125bbb8ddc94e422e5092b7.jpg'))"
   ]
  },
  {
   "cell_type": "code",
   "execution_count": 8,
   "metadata": {},
   "outputs": [
    {
     "ename": "TypeError",
     "evalue": "'str' object cannot be interpreted as an integer",
     "output_type": "error",
     "traceback": [
      "\u001b[0;31m---------------------------------------------------------------------------\u001b[0m",
      "\u001b[0;31mTypeError\u001b[0m                                 Traceback (most recent call last)",
      "Cell \u001b[0;32mIn[8], line 6\u001b[0m\n\u001b[1;32m      4\u001b[0m file \u001b[38;5;241m=\u001b[39m \u001b[38;5;124m'\u001b[39m\u001b[38;5;124m../images/2012-12-07_16_42_25_jpg.rf.55cfc505f125bbb8ddc94e422e5092b7.jpg\u001b[39m\u001b[38;5;124m'\u001b[39m\n\u001b[1;32m      5\u001b[0m file \u001b[38;5;241m=\u001b[39m \u001b[38;5;124m'\u001b[39m\u001b[38;5;124m/home/zazza/Downloads/parking_rois_gopro/images/GOPR0024.JPG\u001b[39m\u001b[38;5;124m'\u001b[39m\n\u001b[0;32m----> 6\u001b[0m date_creation \u001b[38;5;241m=\u001b[39m \u001b[43mtime\u001b[49m\u001b[38;5;241;43m.\u001b[39;49m\u001b[43mctime\u001b[49m\u001b[43m(\u001b[49m\u001b[43mfile\u001b[49m\u001b[43m)\u001b[49m\n\u001b[1;32m      7\u001b[0m date_creation \u001b[38;5;241m=\u001b[39m date_creation\u001b[38;5;241m.\u001b[39mstrftime(\u001b[38;5;124m\"\u001b[39m\u001b[38;5;124m%\u001b[39m\u001b[38;5;124mY-\u001b[39m\u001b[38;5;124m%\u001b[39m\u001b[38;5;124mm-\u001b[39m\u001b[38;5;132;01m%d\u001b[39;00m\u001b[38;5;124mT\u001b[39m\u001b[38;5;124m%\u001b[39m\u001b[38;5;124mH:\u001b[39m\u001b[38;5;124m%\u001b[39m\u001b[38;5;124mM:\u001b[39m\u001b[38;5;124m%\u001b[39m\u001b[38;5;124mSZ\u001b[39m\u001b[38;5;124m\"\u001b[39m)\n\u001b[1;32m      9\u001b[0m \u001b[38;5;28mprint\u001b[39m(date_creation)\n",
      "\u001b[0;31mTypeError\u001b[0m: 'str' object cannot be interpreted as an integer"
     ]
    }
   ],
   "source": [
    "import os\n",
    "import time\n",
    "\n",
    "file = '../images/2012-12-07_16_42_25_jpg.rf.55cfc505f125bbb8ddc94e422e5092b7.jpg'\n",
    "file = '/home/zazza/Downloads/parking_rois_gopro/images/GOPR0024.JPG'\n",
    "date_creation = time.ctime(os.path.getmtime(file))\n",
    "date_creation = date_creation.strftime(\"%Y-%m-%dT%H:%M:%SZ\")\n",
    "\n",
    "print(date_creation)"
   ]
  }
 ],
 "metadata": {
  "kernelspec": {
   "display_name": "Python 3",
   "language": "python",
   "name": "python3"
  },
  "language_info": {
   "codemirror_mode": {
    "name": "ipython",
    "version": 3
   },
   "file_extension": ".py",
   "mimetype": "text/x-python",
   "name": "python",
   "nbconvert_exporter": "python",
   "pygments_lexer": "ipython3",
   "version": "3.10.12"
  }
 },
 "nbformat": 4,
 "nbformat_minor": 2
}
