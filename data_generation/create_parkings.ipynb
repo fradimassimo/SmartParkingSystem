{
 "cells": [
  {
   "cell_type": "code",
   "metadata": {
    "ExecuteTime": {
     "end_time": "2025-01-24T19:55:37.442108Z",
     "start_time": "2025-01-24T19:55:37.428868Z"
    }
   },
   "source": [
    "from data_creation import first_parking as park\n",
    "from data_creation import second_parking as park2\n",
    "from data_creation import third_parking as park3\n",
    "from datetime import datetime\n",
    "from data_creation import create_parking_lots as create_park\n",
    "import json"
   ],
   "outputs": [],
   "execution_count": 2
  },
  {
   "cell_type": "code",
   "execution_count": 4,
   "metadata": {},
   "outputs": [
    {
     "name": "stdout",
     "output_type": "stream",
     "text": [
      "Generated 15 parking lot locations and saved to C:\\Users\\damia\\Documents\\Uni\\Big Data\\Data Generators\\parking_structures.json.\n"
     ]
    }
   ],
   "source": [
    "lat_min, lat_max = 40.0, 41.0\n",
    "lon_min, lon_max = -74.0, -73.0\n",
    "bounds = ((lat_min, lat_max), (lon_min, lon_max))\n",
    "\n",
    "create_park.create_parking_lot_locations(bounds, 1, r\"C:\\Users\\damia\\Documents\\Uni\\Big Data\\Data Generators\\parking_structures.json\")"
   ]
  },
  {
   "cell_type": "code",
   "metadata": {
    "ExecuteTime": {
     "end_time": "2025-01-24T19:45:21.599282Z",
     "start_time": "2025-01-24T19:45:21.495442Z"
    }
   },
   "source": [
    "output_file = r\"/data_generation/data/1766_sensors_data.json\"\n",
    "\n",
    "interval_minutes = 1\n",
    "time_window = (datetime(2025, 1, 2, 19, 0, 0), datetime(2025, 1, 2, 19, 1, 0))\n",
    "structure_file = r\"C:\\Users\\franc\\Documents\\smart_parking_system\\data_generation\\data\\closed_parking_structures.json\"\n",
    "\n",
    "park3.create_parking_dataset(structure_file, output_file, interval_minutes, time_window)"
   ],
   "outputs": [],
   "execution_count": 12
  },
  {
   "metadata": {
    "ExecuteTime": {
     "end_time": "2025-01-25T09:48:29.964701Z",
     "start_time": "2025-01-25T09:48:29.813187Z"
    }
   },
   "cell_type": "code",
   "source": [
    "#Used for the first generation of 1766 sensors as object without metadata\n",
    "output_file = r\"C:\\Users\\franc\\Documents\\smart_parking_system\\spark_streaming\\1766_sensors_data2.json\"\n",
    "structure_file = r\"C:\\Users\\franc\\Documents\\smart_parking_system\\data_generation\\data\\closed_parking_structures.json\"\n",
    "park3.create_parking_dataset(structure_file, output_file)"
   ],
   "outputs": [],
   "execution_count": 5
  },
  {
   "cell_type": "code",
   "metadata": {
    "ExecuteTime": {
     "end_time": "2025-01-24T20:05:06.434689Z",
     "start_time": "2025-01-24T20:05:06.414922Z"
    }
   },
   "source": [
    "path = r\"C:\\Users\\franc\\Documents\\smart_parking_system\\data_generation\\data\\1766_sensors_data.json\"\n",
    "with open(path, 'r', encoding='utf-8') as file:\n",
    "    data = json.load(file)\n",
    "    print(len(data))"
   ],
   "outputs": [
    {
     "name": "stdout",
     "output_type": "stream",
     "text": [
      "1766\n"
     ]
    }
   ],
   "execution_count": 4
  }
 ],
 "metadata": {
  "kernelspec": {
   "display_name": "Python 3",
   "language": "python",
   "name": "python3"
  },
  "language_info": {
   "codemirror_mode": {
    "name": "ipython",
    "version": 3
   },
   "file_extension": ".py",
   "mimetype": "text/x-python",
   "name": "python",
   "nbconvert_exporter": "python",
   "pygments_lexer": "ipython3",
   "version": "3.10.11"
  }
 },
 "nbformat": 4,
 "nbformat_minor": 2
}
