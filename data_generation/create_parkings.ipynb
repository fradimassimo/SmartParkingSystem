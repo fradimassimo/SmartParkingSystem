{
 "cells": [
  {
   "cell_type": "code",
   "execution_count": 1,
   "metadata": {},
   "outputs": [],
   "source": [
    "import first_parking as park\n",
    "from datetime import datetime\n",
    "import create_parking_lots as create_park"
   ]
  },
  {
   "cell_type": "code",
   "execution_count": 4,
   "metadata": {},
   "outputs": [
    {
     "name": "stdout",
     "output_type": "stream",
     "text": [
      "Generated 15 parking lot locations and saved to C:\\Users\\damia\\Documents\\Uni\\Big Data\\Data Generators\\parking_structures.json.\n"
     ]
    }
   ],
   "source": [
    "lat_min, lat_max = 40.0, 41.0\n",
    "lon_min, lon_max = -74.0, -73.0\n",
    "bounds = ((lat_min, lat_max), (lon_min, lon_max))\n",
    "\n",
    "create_park.create_parking_lot_locations(bounds, 1, r\"C:\\Users\\damia\\Documents\\Uni\\Big Data\\Data Generators\\parking_structures.json\")"
   ]
  },
  {
   "cell_type": "code",
   "execution_count": 2,
   "metadata": {},
   "outputs": [
    {
     "ename": "FileNotFoundError",
     "evalue": "[Errno 2] No such file or directory: 'parking_structures.json'",
     "output_type": "error",
     "traceback": [
      "\u001b[1;31m---------------------------------------------------------------------------\u001b[0m",
      "\u001b[1;31mFileNotFoundError\u001b[0m                         Traceback (most recent call last)",
      "Cell \u001b[1;32mIn[2], line 9\u001b[0m\n\u001b[0;32m      6\u001b[0m time_window \u001b[38;5;241m=\u001b[39m (datetime(\u001b[38;5;241m2025\u001b[39m, \u001b[38;5;241m1\u001b[39m, \u001b[38;5;241m1\u001b[39m, \u001b[38;5;241m8\u001b[39m, \u001b[38;5;241m0\u001b[39m, \u001b[38;5;241m0\u001b[39m), datetime(\u001b[38;5;241m2025\u001b[39m, \u001b[38;5;241m1\u001b[39m, \u001b[38;5;241m1\u001b[39m, \u001b[38;5;241m20\u001b[39m, \u001b[38;5;241m0\u001b[39m, \u001b[38;5;241m0\u001b[39m))\n\u001b[0;32m      7\u001b[0m structure_file \u001b[38;5;241m=\u001b[39m \u001b[38;5;124m\"\u001b[39m\u001b[38;5;124mparking_structures.json\u001b[39m\u001b[38;5;124m\"\u001b[39m\n\u001b[1;32m----> 9\u001b[0m \u001b[43mpark\u001b[49m\u001b[38;5;241;43m.\u001b[39;49m\u001b[43mcreate_parking_dataset\u001b[49m\u001b[43m(\u001b[49m\u001b[43moutput_file\u001b[49m\u001b[43m,\u001b[49m\u001b[43m \u001b[49m\u001b[43mlat_min\u001b[49m\u001b[43m,\u001b[49m\u001b[43m \u001b[49m\u001b[43mlat_max\u001b[49m\u001b[43m,\u001b[49m\u001b[43m \u001b[49m\u001b[43mlon_min\u001b[49m\u001b[43m,\u001b[49m\u001b[43m \u001b[49m\u001b[43mlon_max\u001b[49m\u001b[43m,\u001b[49m\u001b[43m \u001b[49m\u001b[43mnum_coordinates\u001b[49m\u001b[43m,\u001b[49m\u001b[43m \u001b[49m\u001b[43minterval_minutes\u001b[49m\u001b[43m,\u001b[49m\u001b[43m \u001b[49m\u001b[43mtime_window\u001b[49m\u001b[43m,\u001b[49m\u001b[43m \u001b[49m\u001b[43mstructure_file\u001b[49m\u001b[43m)\u001b[49m\n",
      "File \u001b[1;32mc:\\Users\\damia\\Documents\\Uni\\Big Data\\Data Generators\\first_parking.py:83\u001b[0m, in \u001b[0;36mcreate_parking_dataset\u001b[1;34m(output_file, lat_min, lat_max, lon_min, lon_max, num_coordinates, interval_minutes, time_window, structure_file)\u001b[0m\n\u001b[0;32m     80\u001b[0m     parking_data \u001b[38;5;241m=\u001b[39m generate_parking_data(parking_spots, interval_minutes, time_window)\n\u001b[0;32m     81\u001b[0m     all_data\u001b[38;5;241m.\u001b[39mextend(parking_data)\n\u001b[1;32m---> 83\u001b[0m all_data \u001b[38;5;241m=\u001b[39m \u001b[43madd_parking_structure\u001b[49m\u001b[43m(\u001b[49m\u001b[43mall_data\u001b[49m\u001b[43m,\u001b[49m\u001b[43m \u001b[49m\u001b[43mstructure_file\u001b[49m\u001b[43m)\u001b[49m\n\u001b[0;32m     85\u001b[0m \u001b[38;5;28;01mwith\u001b[39;00m \u001b[38;5;28mopen\u001b[39m(output_file, \u001b[38;5;124m'\u001b[39m\u001b[38;5;124mw\u001b[39m\u001b[38;5;124m'\u001b[39m) \u001b[38;5;28;01mas\u001b[39;00m file:\n\u001b[0;32m     86\u001b[0m     json\u001b[38;5;241m.\u001b[39mdump(all_data, file, indent\u001b[38;5;241m=\u001b[39m\u001b[38;5;241m4\u001b[39m)\n",
      "File \u001b[1;32mc:\\Users\\damia\\Documents\\Uni\\Big Data\\Data Generators\\first_parking.py:60\u001b[0m, in \u001b[0;36madd_parking_structure\u001b[1;34m(parking_data, structure_file)\u001b[0m\n\u001b[0;32m     59\u001b[0m \u001b[38;5;28;01mdef\u001b[39;00m\u001b[38;5;250m \u001b[39m\u001b[38;5;21madd_parking_structure\u001b[39m(parking_data, structure_file):\n\u001b[1;32m---> 60\u001b[0m     \u001b[38;5;28;01mwith\u001b[39;00m \u001b[38;5;28;43mopen\u001b[39;49m\u001b[43m(\u001b[49m\u001b[43mstructure_file\u001b[49m\u001b[43m,\u001b[49m\u001b[43m \u001b[49m\u001b[38;5;124;43m'\u001b[39;49m\u001b[38;5;124;43mr\u001b[39;49m\u001b[38;5;124;43m'\u001b[39;49m\u001b[43m)\u001b[49m \u001b[38;5;28;01mas\u001b[39;00m file:\n\u001b[0;32m     61\u001b[0m         structure_data \u001b[38;5;241m=\u001b[39m json\u001b[38;5;241m.\u001b[39mload(file)\n\u001b[0;32m     63\u001b[0m     structure_map \u001b[38;5;241m=\u001b[39m {(\u001b[38;5;28mround\u001b[39m(entry[\u001b[38;5;124m'\u001b[39m\u001b[38;5;124mlatitude\u001b[39m\u001b[38;5;124m'\u001b[39m], \u001b[38;5;241m6\u001b[39m), \u001b[38;5;28mround\u001b[39m(entry[\u001b[38;5;124m'\u001b[39m\u001b[38;5;124mlongitude\u001b[39m\u001b[38;5;124m'\u001b[39m], \u001b[38;5;241m6\u001b[39m)): entry[\u001b[38;5;124m'\u001b[39m\u001b[38;5;124mparking_structure_name\u001b[39m\u001b[38;5;124m'\u001b[39m] \u001b[38;5;28;01mfor\u001b[39;00m entry \u001b[38;5;129;01min\u001b[39;00m structure_data}\n",
      "\u001b[1;31mFileNotFoundError\u001b[0m: [Errno 2] No such file or directory: 'parking_structures.json'"
     ]
    }
   ],
   "source": [
    "output_file = r\"C:\\Users\\damia\\Documents\\Uni\\Big Data\\Data Generators\\parking_data.json\"\n",
    "\n",
    "interval_minutes = 15\n",
    "time_window = (datetime(2025, 1, 1, 19, 0, 0), datetime(2025, 1, 1, 19, 30, 0))\n",
    "structure_file = r\"C:\\Users\\damia\\Documents\\Uni\\Big Data\\Data Generators\\parking_structures.json\"\n",
    "\n",
    "park.create_parking_dataset(structure_file, output_file, interval_minutes, time_window)"
   ]
  },
  {
   "cell_type": "code",
   "execution_count": null,
   "metadata": {},
   "outputs": [],
   "source": []
  }
 ],
 "metadata": {
  "kernelspec": {
   "display_name": "Python 3",
   "language": "python",
   "name": "python3"
  },
  "language_info": {
   "codemirror_mode": {
    "name": "ipython",
    "version": 3
   },
   "file_extension": ".py",
   "mimetype": "text/x-python",
   "name": "python",
   "nbconvert_exporter": "python",
   "pygments_lexer": "ipython3",
   "version": "3.10.11"
  }
 },
 "nbformat": 4,
 "nbformat_minor": 2
}
